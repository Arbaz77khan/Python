{
 "cells": [
  {
   "cell_type": "markdown",
   "id": "1d4add26-ca93-4c69-ae05-8fa40c31a95c",
   "metadata": {},
   "source": [
    "1. Write a Python program that asks the respondent for their name, age, and country. Then, print a summary."
   ]
  },
  {
   "cell_type": "code",
   "execution_count": null,
   "id": "e53a7682-4d10-4208-9954-47e61b079a84",
   "metadata": {},
   "outputs": [
    {
     "name": "stdin",
     "output_type": "stream",
     "text": [
      "Name:  \n"
     ]
    },
    {
     "name": "stdout",
     "output_type": "stream",
     "text": [
      "Please enter valid name !!!\n"
     ]
    },
    {
     "name": "stdin",
     "output_type": "stream",
     "text": [
      "Name:     Arbaz Khan\n",
      "Age:  r\n"
     ]
    }
   ],
   "source": [
    "while True:\n",
    "    name = input(\"Name: \").strip()\n",
    "    if name:\n",
    "        break\n",
    "    print(\"Please enter valid name !!!\")\n",
    "while True:\n",
    "    age = input(\"Age: \")\n",
    "    if age.isdigit():\n",
    "        age = int(age)\n",
    "        break\n",
    "    print(\"Please enter valid age !!!\")\n",
    "while True:\n",
    "    country = input(\"Country: \").strip()\n",
    "    if country:\n",
    "        break\n",
    "    print(\"Please enter valid country !!!\")\n",
    "    \n",
    "print(f\"\\nHello {name}! You are {age} years old and from {country}.\")"
   ]
  },
  {
   "cell_type": "code",
   "execution_count": null,
   "id": "b6129382-a4b9-4cf9-bde7-a82d0c783901",
   "metadata": {},
   "outputs": [],
   "source": []
  }
 ],
 "metadata": {
  "kernelspec": {
   "display_name": "Python 3 (ipykernel)",
   "language": "python",
   "name": "python3"
  },
  "language_info": {
   "codemirror_mode": {
    "name": "ipython",
    "version": 3
   },
   "file_extension": ".py",
   "mimetype": "text/x-python",
   "name": "python",
   "nbconvert_exporter": "python",
   "pygments_lexer": "ipython3",
   "version": "3.13.2"
  }
 },
 "nbformat": 4,
 "nbformat_minor": 5
}
